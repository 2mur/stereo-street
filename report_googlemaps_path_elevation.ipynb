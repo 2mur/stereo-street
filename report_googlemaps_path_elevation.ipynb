{
  "nbformat": 4,
  "nbformat_minor": 0,
  "metadata": {
    "colab": {
      "provenance": [],
      "authorship_tag": "ABX9TyNIJTBF3ztJKb0dykBOE9/w",
      "include_colab_link": true
    },
    "kernelspec": {
      "name": "python3",
      "display_name": "Python 3"
    },
    "language_info": {
      "name": "python"
    }
  },
  "cells": [
    {
      "cell_type": "markdown",
      "metadata": {
        "id": "view-in-github",
        "colab_type": "text"
      },
      "source": [
        "<a href=\"https://colab.research.google.com/github/2mur/stereo-street/blob/main/report_googlemaps_path_elevation.ipynb\" target=\"_parent\"><img src=\"https://colab.research.google.com/assets/colab-badge.svg\" alt=\"Open In Colab\"/></a>"
      ]
    },
    {
      "cell_type": "markdown",
      "source": [
        "## **Part 1**: Data Collection\n",
        "using google maps API, from initial coordinates a path is constructed across a street to find unique viewpoints and collect their metadata;\n",
        "\n",
        "*pano\\_id, elevation, panorama coordinates,*"
      ],
      "metadata": {
        "id": "7koguk2pv6Tn"
      }
    },
    {
      "cell_type": "code",
      "source": [
        "import requests\n",
        "import json\n",
        "import networkx as nx\n",
        "import matplotlib.pyplot as plt\n",
        "import pandas as pd\n",
        "import numpy as np\n",
        "\n",
        "API_KEY = 'insert key here'"
      ],
      "metadata": {
        "id": "r_NhTZnCvqrZ"
      },
      "execution_count": null,
      "outputs": []
    },
    {
      "cell_type": "markdown",
      "source": [
        "**1.1** Building path from initial coordinate and final coordinate"
      ],
      "metadata": {
        "id": "Qac-RFObxEdo"
      }
    },
    {
      "cell_type": "code",
      "source": [
        "#along the st-mathieu street, from sherbrook to maisoneuve.\n",
        "x0= 45.495713725557536; y0= -73.58250972897773\n",
        "xf = 45.49456020005086; yf= -73.58055820541125\n",
        "\n",
        "nrange=20 #try 20 points as resolution to find unique panorama viewpoints\n",
        "\n",
        "lat_range = np.linspace(x0,xf,nrange)\n",
        "lng_range = np.linspace(y0,yf,nrange)"
      ],
      "metadata": {
        "id": "x3iXExk-vvuA"
      },
      "execution_count": null,
      "outputs": []
    },
    {
      "cell_type": "markdown",
      "source": [
        "**1.2** getting panorama for first point"
      ],
      "metadata": {
        "id": "JHazmanByRw3"
      }
    },
    {
      "cell_type": "code",
      "source": [
        "meta_endpoint = 'https://maps.googleapis.com/maps/api/streetview/metadata'\n",
        "\n",
        "meta_params = {\n",
        "      'location': '{},{}'.format(lat_range[0],lng_range[0]),\n",
        "      'key': API_KEY,\n",
        "  }\n",
        "meta_image_data = requests.get(meta_endpoint, params=meta_params)\n",
        "imgmeta = meta_image_data.json()\n",
        "imgmeta"
      ],
      "metadata": {
        "colab": {
          "base_uri": "https://localhost:8080/"
        },
        "id": "8dHidc3ryrRO",
        "outputId": "2c3e309b-095e-45bb-bddc-dd0c01a6f1ea"
      },
      "execution_count": null,
      "outputs": [
        {
          "output_type": "execute_result",
          "data": {
            "text/plain": [
              "{'copyright': '© Google',\n",
              " 'date': '2017-07',\n",
              " 'location': {'lat': 45.4957101245606, 'lng': -73.58250496445334},\n",
              " 'pano_id': 'fmnmA6ZrzM38gcPGd6jlJQ',\n",
              " 'status': 'OK'}"
            ]
          },
          "metadata": {},
          "execution_count": 3
        }
      ]
    },
    {
      "cell_type": "markdown",
      "source": [
        "**1.3** difference between input and output points\n",
        "geographic coordinate to meters,\n",
        "\n",
        "latitude conversion\n",
        "\n",
        "1deg : 111132.92-559.82*cos(2*phi)+1.175*cos(4*phi)-0.0023*cos(6*phi) → 1m\n",
        "\n",
        "longitude conversion\n",
        "\n",
        "1deg : 111412.84*cos(deg)-93.5*cos(3*deg)+0.118*cos(5*deg) → 1m\n",
        "\n"
      ],
      "metadata": {
        "id": "6WE7nBuVy9nQ"
      }
    },
    {
      "cell_type": "code",
      "source": [
        "deg0 = (lat_range[0],lng_range[0])\n",
        "degf = (imgmeta['location']['lat'],imgmeta['location']['lng'])\n",
        "\n",
        "def lat_to_meter(deg):\n",
        "  return(111132.92 -559.82*np.cos(2*deg)+1.175*np.cos(4*deg)-0.0023*np.cos(6*deg))\n",
        "def lng_to_meter(deg):\n",
        "  return(111412.84*np.cos(deg)-93.5*np.cos(3*deg)+0.118*np.cos(5*deg))\n",
        "\n",
        "def get_dist_meter(deg0,degf):\n",
        "  phi0,theta0 = deg0\n",
        "  phif,thetaf = degf\n",
        "\n",
        "  dx = lat_to_meter(phi0)-lat_to_meter(phif)\n",
        "  dy = lng_to_meter(theta0)-lng_to_meter(thetaf)\n",
        "  d = np.sqrt(dx**2 + dy**2)\n",
        "  return(d)\n",
        "\n",
        "x0,y0 = deg0\n",
        "xf,yf = degf\n",
        "\n",
        "print('(x0,y0) = (', lat_to_meter(x0),',',lng_to_meter(y0),')')\n",
        "print('(xf,yf) = (', lat_to_meter(xf),',',lng_to_meter(yf),')')\n",
        "\n",
        "#the distance calculation will serve as the baseline length\n",
        "print('distance between two vectors', get_dist_meter(deg0,degf))\n"
      ],
      "metadata": {
        "colab": {
          "base_uri": "https://localhost:8080/"
        },
        "id": "Ib4DiGAay8yU",
        "outputId": "c63eb862-7300-4b77-a6d0-7522141610fa"
      },
      "execution_count": null,
      "outputs": [
        {
          "output_type": "stream",
          "name": "stdout",
          "text": [
            "(x0,y0) = ( 111690.2040527581 , -27077.779686707137 )\n",
            "(xf,yf) = ( 111690.20358720148 , -27078.295666806203 )\n",
            "distance between two vectors 0.5159803090962356\n"
          ]
        }
      ]
    },
    {
      "cell_type": "markdown",
      "source": [
        "**1.4** get all unique panoramas in a list, and their locations in (lat,lng)"
      ],
      "metadata": {
        "id": "tvTYrUAu3UTk"
      }
    },
    {
      "cell_type": "code",
      "source": [
        "'''\n",
        "example of metadata request\n",
        "{'copyright': '© Google',\n",
        " 'date': '2017-07',\n",
        " 'location': {'lat': 45.4957101245606, 'lng': -73.58250496445334},\n",
        " 'pano_id': 'fmnmA6ZrzM38gcPGd6jlJQ',\n",
        " 'status': 'OK'}\n",
        "'''\n",
        "\n",
        "pano_id_list = []\n",
        "pano_deg_list = []\n",
        "for i in range(nrange):\n",
        "  meta_params = {\n",
        "      'location': '{},{}'.format(lat_range[i],lng_range[i]),\n",
        "      'key': API_KEY,\n",
        "  }\n",
        "  meta_image_data = requests.get(meta_endpoint, params=meta_params)\n",
        "  imgmeta = meta_image_data.json()\n",
        "\n",
        "  pano_deg = (imgmeta['location']['lat'],imgmeta['location']['lng'])\n",
        "  pano_id = imgmeta['pano_id']\n",
        "  if pano_id not in pano_id_list:\n",
        "    pano_id_list.append(pano_id)\n",
        "    pano_deg_list.append(pano_deg)"
      ],
      "metadata": {
        "id": "A5wxczCQyQvU"
      },
      "execution_count": null,
      "outputs": []
    },
    {
      "cell_type": "markdown",
      "source": [
        "**1.5** get elevation for all found viewpoints"
      ],
      "metadata": {
        "id": "wZpgPdqUMe7x"
      }
    },
    {
      "cell_type": "code",
      "source": [
        "path1 = ['{}%2C{}%7C'.format(e1, e2) for e1,e2 in pano_deg_list]\n",
        "path1 = ''.join(path1)[:-3]\n",
        "path2 = ['{},{}'.format(e1, e2) for e1,e2 in pano_deg_list]\n",
        "path3 = ['{},{}|'.format(e1, e2) for e1,e2 in pano_deg_list]\n",
        "path3 = ''.join(path3)[:-1]\n",
        "\n",
        "pano_lat = [e1 for e1,e2 in pano_deg_list]\n",
        "pano_lng = [e2 for e1,e2 in pano_deg_list]"
      ],
      "metadata": {
        "id": "uPU0bCgeRZCk"
      },
      "execution_count": null,
      "outputs": []
    },
    {
      "cell_type": "code",
      "source": [
        "elev_endpoint = 'https://maps.googleapis.com/maps/api/elevation/json'\n",
        "elev_params = {\n",
        "      'locations': path3,\n",
        "      'key': API_KEY,\n",
        "  }\n",
        "elev_req = requests.get(elev_endpoint, params=elev_params)\n",
        "elev_data = elev_req.json()"
      ],
      "metadata": {
        "id": "tUf0P_vmQ9Li"
      },
      "execution_count": null,
      "outputs": []
    },
    {
      "cell_type": "markdown",
      "source": [
        "**1.6** Store collected data\n",
        "cols: pano_id, lat, lng, elev, lat_m (meters), lng_m, baseline_l (baseline length as left pair), baseline_r (baseline length as right pair),"
      ],
      "metadata": {
        "id": "gyLICOcDXO5A"
      }
    },
    {
      "cell_type": "code",
      "source": [
        "pano_elev_list = [e['elevation'] for e in elev_data['results']]\n",
        "\n",
        "stereo_dataset = pd.DataFrame(data= {'pano_id' : pano_id_list,\n",
        "                              'lat' : pano_lat,\n",
        "                              'lng' : pano_lng,\n",
        "                              'elev' : pano_elev_list})\n",
        "\n",
        "stereo_dataset.to_csv('stereo_dataset.csv')"
      ],
      "metadata": {
        "colab": {
          "base_uri": "https://localhost:8080/",
          "height": 645
        },
        "id": "u4fPMLYoXMeT",
        "outputId": "1ced872e-a746-4047-f8e0-fa44a0a7acba"
      },
      "execution_count": null,
      "outputs": [
        {
          "output_type": "execute_result",
          "data": {
            "text/plain": [
              "                   pano_id        lat        lng       elev\n",
              "0   fmnmA6ZrzM38gcPGd6jlJQ  45.495710 -73.582505  57.902134\n",
              "1   OgM8drL2r2xhDNR-bQlrxQ  45.495648 -73.582403  57.487469\n",
              "2   thh4EXIvb6-Rv6oKjZekKQ  45.495590 -73.582309  57.088661\n",
              "3   7C_x_Joul6xEg_Mo3qMvFA  45.495528 -73.582209  56.653671\n",
              "4   3ZvByPqo5I-v_H932hy6Ug  45.495468 -73.582111  56.222157\n",
              "5   xhREBhaLgopJl46Qn5pIDg  45.495412 -73.582019  55.811348\n",
              "6   gr_aMAzme5aQE7ny6v7BCg  45.495337 -73.581898  55.271790\n",
              "7   3nGtmEN35TciS5XU9TbInw  45.495269 -73.581787  54.775806\n",
              "8   TkAvmQBSF5JKbS_1NqFoKQ  45.495208 -73.581688  54.340405\n",
              "9   p14EIFt10EXo1PR_HPJaEQ  45.495126 -73.581555  53.759083\n",
              "10  vVjKSzVi2p6oKL9cXpeQfg  45.495073 -73.581469  53.386082\n",
              "11  9KYRYNRXgS36mFYYY4b7sw  45.495065 -73.581454  53.324757\n",
              "12  3a4ut_Db6qtoKWI6OkiUBQ  45.494997 -73.581333  52.822865\n",
              "13  TKvjkoahJPSL694X2G2KyA  45.494937 -73.581226  52.388809\n",
              "14  QCMR5I86WGw6j6RYpJjHDw  45.494878 -73.581121  51.966934\n",
              "15  0vjGde_3fGIWBmZoPjH7_A  45.494821 -73.581019  51.563499\n",
              "16  90LopAOCLBVRpKY2bv5fqg  45.494717 -73.580834  50.846981\n",
              "17  r-Bp2GGV8B9Sa7Acbxo6qA  45.494662 -73.580737  50.477947\n",
              "18  3I1SE25U8b8p3i2Gs4_57w  45.494603 -73.580630  50.075871"
            ],
            "text/html": [
              "\n",
              "\n",
              "  <div id=\"df-4a82b21c-4b8c-438c-8621-db487708da61\">\n",
              "    <div class=\"colab-df-container\">\n",
              "      <div>\n",
              "<style scoped>\n",
              "    .dataframe tbody tr th:only-of-type {\n",
              "        vertical-align: middle;\n",
              "    }\n",
              "\n",
              "    .dataframe tbody tr th {\n",
              "        vertical-align: top;\n",
              "    }\n",
              "\n",
              "    .dataframe thead th {\n",
              "        text-align: right;\n",
              "    }\n",
              "</style>\n",
              "<table border=\"1\" class=\"dataframe\">\n",
              "  <thead>\n",
              "    <tr style=\"text-align: right;\">\n",
              "      <th></th>\n",
              "      <th>pano_id</th>\n",
              "      <th>lat</th>\n",
              "      <th>lng</th>\n",
              "      <th>elev</th>\n",
              "    </tr>\n",
              "  </thead>\n",
              "  <tbody>\n",
              "    <tr>\n",
              "      <th>0</th>\n",
              "      <td>fmnmA6ZrzM38gcPGd6jlJQ</td>\n",
              "      <td>45.495710</td>\n",
              "      <td>-73.582505</td>\n",
              "      <td>57.902134</td>\n",
              "    </tr>\n",
              "    <tr>\n",
              "      <th>1</th>\n",
              "      <td>OgM8drL2r2xhDNR-bQlrxQ</td>\n",
              "      <td>45.495648</td>\n",
              "      <td>-73.582403</td>\n",
              "      <td>57.487469</td>\n",
              "    </tr>\n",
              "    <tr>\n",
              "      <th>2</th>\n",
              "      <td>thh4EXIvb6-Rv6oKjZekKQ</td>\n",
              "      <td>45.495590</td>\n",
              "      <td>-73.582309</td>\n",
              "      <td>57.088661</td>\n",
              "    </tr>\n",
              "    <tr>\n",
              "      <th>3</th>\n",
              "      <td>7C_x_Joul6xEg_Mo3qMvFA</td>\n",
              "      <td>45.495528</td>\n",
              "      <td>-73.582209</td>\n",
              "      <td>56.653671</td>\n",
              "    </tr>\n",
              "    <tr>\n",
              "      <th>4</th>\n",
              "      <td>3ZvByPqo5I-v_H932hy6Ug</td>\n",
              "      <td>45.495468</td>\n",
              "      <td>-73.582111</td>\n",
              "      <td>56.222157</td>\n",
              "    </tr>\n",
              "    <tr>\n",
              "      <th>5</th>\n",
              "      <td>xhREBhaLgopJl46Qn5pIDg</td>\n",
              "      <td>45.495412</td>\n",
              "      <td>-73.582019</td>\n",
              "      <td>55.811348</td>\n",
              "    </tr>\n",
              "    <tr>\n",
              "      <th>6</th>\n",
              "      <td>gr_aMAzme5aQE7ny6v7BCg</td>\n",
              "      <td>45.495337</td>\n",
              "      <td>-73.581898</td>\n",
              "      <td>55.271790</td>\n",
              "    </tr>\n",
              "    <tr>\n",
              "      <th>7</th>\n",
              "      <td>3nGtmEN35TciS5XU9TbInw</td>\n",
              "      <td>45.495269</td>\n",
              "      <td>-73.581787</td>\n",
              "      <td>54.775806</td>\n",
              "    </tr>\n",
              "    <tr>\n",
              "      <th>8</th>\n",
              "      <td>TkAvmQBSF5JKbS_1NqFoKQ</td>\n",
              "      <td>45.495208</td>\n",
              "      <td>-73.581688</td>\n",
              "      <td>54.340405</td>\n",
              "    </tr>\n",
              "    <tr>\n",
              "      <th>9</th>\n",
              "      <td>p14EIFt10EXo1PR_HPJaEQ</td>\n",
              "      <td>45.495126</td>\n",
              "      <td>-73.581555</td>\n",
              "      <td>53.759083</td>\n",
              "    </tr>\n",
              "    <tr>\n",
              "      <th>10</th>\n",
              "      <td>vVjKSzVi2p6oKL9cXpeQfg</td>\n",
              "      <td>45.495073</td>\n",
              "      <td>-73.581469</td>\n",
              "      <td>53.386082</td>\n",
              "    </tr>\n",
              "    <tr>\n",
              "      <th>11</th>\n",
              "      <td>9KYRYNRXgS36mFYYY4b7sw</td>\n",
              "      <td>45.495065</td>\n",
              "      <td>-73.581454</td>\n",
              "      <td>53.324757</td>\n",
              "    </tr>\n",
              "    <tr>\n",
              "      <th>12</th>\n",
              "      <td>3a4ut_Db6qtoKWI6OkiUBQ</td>\n",
              "      <td>45.494997</td>\n",
              "      <td>-73.581333</td>\n",
              "      <td>52.822865</td>\n",
              "    </tr>\n",
              "    <tr>\n",
              "      <th>13</th>\n",
              "      <td>TKvjkoahJPSL694X2G2KyA</td>\n",
              "      <td>45.494937</td>\n",
              "      <td>-73.581226</td>\n",
              "      <td>52.388809</td>\n",
              "    </tr>\n",
              "    <tr>\n",
              "      <th>14</th>\n",
              "      <td>QCMR5I86WGw6j6RYpJjHDw</td>\n",
              "      <td>45.494878</td>\n",
              "      <td>-73.581121</td>\n",
              "      <td>51.966934</td>\n",
              "    </tr>\n",
              "    <tr>\n",
              "      <th>15</th>\n",
              "      <td>0vjGde_3fGIWBmZoPjH7_A</td>\n",
              "      <td>45.494821</td>\n",
              "      <td>-73.581019</td>\n",
              "      <td>51.563499</td>\n",
              "    </tr>\n",
              "    <tr>\n",
              "      <th>16</th>\n",
              "      <td>90LopAOCLBVRpKY2bv5fqg</td>\n",
              "      <td>45.494717</td>\n",
              "      <td>-73.580834</td>\n",
              "      <td>50.846981</td>\n",
              "    </tr>\n",
              "    <tr>\n",
              "      <th>17</th>\n",
              "      <td>r-Bp2GGV8B9Sa7Acbxo6qA</td>\n",
              "      <td>45.494662</td>\n",
              "      <td>-73.580737</td>\n",
              "      <td>50.477947</td>\n",
              "    </tr>\n",
              "    <tr>\n",
              "      <th>18</th>\n",
              "      <td>3I1SE25U8b8p3i2Gs4_57w</td>\n",
              "      <td>45.494603</td>\n",
              "      <td>-73.580630</td>\n",
              "      <td>50.075871</td>\n",
              "    </tr>\n",
              "  </tbody>\n",
              "</table>\n",
              "</div>\n",
              "      <button class=\"colab-df-convert\" onclick=\"convertToInteractive('df-4a82b21c-4b8c-438c-8621-db487708da61')\"\n",
              "              title=\"Convert this dataframe to an interactive table.\"\n",
              "              style=\"display:none;\">\n",
              "\n",
              "  <svg xmlns=\"http://www.w3.org/2000/svg\" height=\"24px\"viewBox=\"0 0 24 24\"\n",
              "       width=\"24px\">\n",
              "    <path d=\"M0 0h24v24H0V0z\" fill=\"none\"/>\n",
              "    <path d=\"M18.56 5.44l.94 2.06.94-2.06 2.06-.94-2.06-.94-.94-2.06-.94 2.06-2.06.94zm-11 1L8.5 8.5l.94-2.06 2.06-.94-2.06-.94L8.5 2.5l-.94 2.06-2.06.94zm10 10l.94 2.06.94-2.06 2.06-.94-2.06-.94-.94-2.06-.94 2.06-2.06.94z\"/><path d=\"M17.41 7.96l-1.37-1.37c-.4-.4-.92-.59-1.43-.59-.52 0-1.04.2-1.43.59L10.3 9.45l-7.72 7.72c-.78.78-.78 2.05 0 2.83L4 21.41c.39.39.9.59 1.41.59.51 0 1.02-.2 1.41-.59l7.78-7.78 2.81-2.81c.8-.78.8-2.07 0-2.86zM5.41 20L4 18.59l7.72-7.72 1.47 1.35L5.41 20z\"/>\n",
              "  </svg>\n",
              "      </button>\n",
              "\n",
              "\n",
              "\n",
              "    <div id=\"df-905dd0ec-394d-45e4-98e7-4a0a356cd807\">\n",
              "      <button class=\"colab-df-quickchart\" onclick=\"quickchart('df-905dd0ec-394d-45e4-98e7-4a0a356cd807')\"\n",
              "              title=\"Suggest charts.\"\n",
              "              style=\"display:none;\">\n",
              "\n",
              "<svg xmlns=\"http://www.w3.org/2000/svg\" height=\"24px\"viewBox=\"0 0 24 24\"\n",
              "     width=\"24px\">\n",
              "    <g>\n",
              "        <path d=\"M19 3H5c-1.1 0-2 .9-2 2v14c0 1.1.9 2 2 2h14c1.1 0 2-.9 2-2V5c0-1.1-.9-2-2-2zM9 17H7v-7h2v7zm4 0h-2V7h2v10zm4 0h-2v-4h2v4z\"/>\n",
              "    </g>\n",
              "</svg>\n",
              "      </button>\n",
              "    </div>\n",
              "\n",
              "<style>\n",
              "  .colab-df-quickchart {\n",
              "    background-color: #E8F0FE;\n",
              "    border: none;\n",
              "    border-radius: 50%;\n",
              "    cursor: pointer;\n",
              "    display: none;\n",
              "    fill: #1967D2;\n",
              "    height: 32px;\n",
              "    padding: 0 0 0 0;\n",
              "    width: 32px;\n",
              "  }\n",
              "\n",
              "  .colab-df-quickchart:hover {\n",
              "    background-color: #E2EBFA;\n",
              "    box-shadow: 0px 1px 2px rgba(60, 64, 67, 0.3), 0px 1px 3px 1px rgba(60, 64, 67, 0.15);\n",
              "    fill: #174EA6;\n",
              "  }\n",
              "\n",
              "  [theme=dark] .colab-df-quickchart {\n",
              "    background-color: #3B4455;\n",
              "    fill: #D2E3FC;\n",
              "  }\n",
              "\n",
              "  [theme=dark] .colab-df-quickchart:hover {\n",
              "    background-color: #434B5C;\n",
              "    box-shadow: 0px 1px 3px 1px rgba(0, 0, 0, 0.15);\n",
              "    filter: drop-shadow(0px 1px 2px rgba(0, 0, 0, 0.3));\n",
              "    fill: #FFFFFF;\n",
              "  }\n",
              "</style>\n",
              "\n",
              "    <script>\n",
              "      async function quickchart(key) {\n",
              "        const containerElement = document.querySelector('#' + key);\n",
              "        const charts = await google.colab.kernel.invokeFunction(\n",
              "            'suggestCharts', [key], {});\n",
              "      }\n",
              "    </script>\n",
              "\n",
              "      <script>\n",
              "\n",
              "function displayQuickchartButton(domScope) {\n",
              "  let quickchartButtonEl =\n",
              "    domScope.querySelector('#df-905dd0ec-394d-45e4-98e7-4a0a356cd807 button.colab-df-quickchart');\n",
              "  quickchartButtonEl.style.display =\n",
              "    google.colab.kernel.accessAllowed ? 'block' : 'none';\n",
              "}\n",
              "\n",
              "        displayQuickchartButton(document);\n",
              "      </script>\n",
              "      <style>\n",
              "    .colab-df-container {\n",
              "      display:flex;\n",
              "      flex-wrap:wrap;\n",
              "      gap: 12px;\n",
              "    }\n",
              "\n",
              "    .colab-df-convert {\n",
              "      background-color: #E8F0FE;\n",
              "      border: none;\n",
              "      border-radius: 50%;\n",
              "      cursor: pointer;\n",
              "      display: none;\n",
              "      fill: #1967D2;\n",
              "      height: 32px;\n",
              "      padding: 0 0 0 0;\n",
              "      width: 32px;\n",
              "    }\n",
              "\n",
              "    .colab-df-convert:hover {\n",
              "      background-color: #E2EBFA;\n",
              "      box-shadow: 0px 1px 2px rgba(60, 64, 67, 0.3), 0px 1px 3px 1px rgba(60, 64, 67, 0.15);\n",
              "      fill: #174EA6;\n",
              "    }\n",
              "\n",
              "    [theme=dark] .colab-df-convert {\n",
              "      background-color: #3B4455;\n",
              "      fill: #D2E3FC;\n",
              "    }\n",
              "\n",
              "    [theme=dark] .colab-df-convert:hover {\n",
              "      background-color: #434B5C;\n",
              "      box-shadow: 0px 1px 3px 1px rgba(0, 0, 0, 0.15);\n",
              "      filter: drop-shadow(0px 1px 2px rgba(0, 0, 0, 0.3));\n",
              "      fill: #FFFFFF;\n",
              "    }\n",
              "  </style>\n",
              "\n",
              "      <script>\n",
              "        const buttonEl =\n",
              "          document.querySelector('#df-4a82b21c-4b8c-438c-8621-db487708da61 button.colab-df-convert');\n",
              "        buttonEl.style.display =\n",
              "          google.colab.kernel.accessAllowed ? 'block' : 'none';\n",
              "\n",
              "        async function convertToInteractive(key) {\n",
              "          const element = document.querySelector('#df-4a82b21c-4b8c-438c-8621-db487708da61');\n",
              "          const dataTable =\n",
              "            await google.colab.kernel.invokeFunction('convertToInteractive',\n",
              "                                                     [key], {});\n",
              "          if (!dataTable) return;\n",
              "\n",
              "          const docLinkHtml = 'Like what you see? Visit the ' +\n",
              "            '<a target=\"_blank\" href=https://colab.research.google.com/notebooks/data_table.ipynb>data table notebook</a>'\n",
              "            + ' to learn more about interactive tables.';\n",
              "          element.innerHTML = '';\n",
              "          dataTable['output_type'] = 'display_data';\n",
              "          await google.colab.output.renderOutput(dataTable, element);\n",
              "          const docLink = document.createElement('div');\n",
              "          docLink.innerHTML = docLinkHtml;\n",
              "          element.appendChild(docLink);\n",
              "        }\n",
              "      </script>\n",
              "    </div>\n",
              "  </div>\n"
            ]
          },
          "metadata": {},
          "execution_count": 74
        }
      ]
    },
    {
      "cell_type": "code",
      "source": [
        "#make graph with nodes as panorama locations\n",
        "Gpano = nx.DiGraph()\n",
        "Gpano.add_nodes_from(pano_id_list)\n",
        "for i in range(len(pano_id_list)-1):\n",
        "  Gpano.add_edge(pano_id_list[i],pano_id_list[i+1],\n",
        "                 distance = get_dist_meter(pano_deg_list[i],pano_deg_list[i+1]))"
      ],
      "metadata": {
        "id": "4-AnIrNB7gj2"
      },
      "execution_count": null,
      "outputs": []
    },
    {
      "cell_type": "code",
      "source": [
        "#draw the path as a graph\n",
        "x = []; y= []\n",
        "dx =[]; dy =[]\n",
        "xnorm = [0]; ynorm = [0]\n",
        "\n",
        "for i in range(len(pano_deg_list)):\n",
        "  lat,lng = pano_deg_list[i]\n",
        "  x.append(lat_to_meter(lat))\n",
        "  y.append(lng_to_meter(lng))\n",
        "  if i>0:\n",
        "    plat,plng = pano_deg_list[i-1]\n",
        "    dx = 111139*(lat-plat); dy = 111139*(lng-plng)\n",
        "    xp = xnorm[i-1]; yp = ynorm[i-1]\n",
        "    xnorm.append(xp+dx); ynorm.append(yp+dy)\n",
        "\n",
        "xnorm = [-x for x in xnorm]; ynorm = [-y for y in ynorm]\n",
        "\n",
        "params = {'with_labels': True, 'width' : 1, 'node_color': 'thistle',\n",
        "          'font_size':7, 'node_size':100 , 'edge_color':'pink'}\n",
        "\n",
        "plt.figure(figsize=(10,10), dpi = 100)\n",
        "plt.title('Google maps panorama path')\n",
        "pos = nx.kamada_kawai_layout(Gpano)\n",
        "nx.draw(Gpano, pos, **params)\n",
        "plt.axis('off')\n",
        "plt.show()"
      ],
      "metadata": {
        "colab": {
          "base_uri": "https://localhost:8080/",
          "height": 829
        },
        "id": "uSJuDX9V8shg",
        "outputId": "7bd61fc3-5fdd-4988-db86-3ca39a82e5bc"
      },
      "execution_count": null,
      "outputs": [
        {
          "output_type": "display_data",
          "data": {
            "text/plain": [
              "<Figure size 1000x1000 with 1 Axes>"
            ],
            "image/png": "[encoded data removed]"
          },
          "metadata": {}
        }
      ]
    }
  ]
}